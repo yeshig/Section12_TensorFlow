{
 "cells": [
  {
   "cell_type": "markdown",
   "metadata": {},
   "source": [
    "## TensorFlow"
   ]
  },
  {
   "cell_type": "markdown",
   "metadata": {},
   "source": [
    "### Google's Open sourced Machine Learning system\n",
    "- [Released Nov 09, 2015](http://googleresearch.blogspot.ca/2015/11/tensorflow-googles-latest-machine_9.html)\n",
    "- Took the place of Google's ML infrastructure ${\\bf DistBelief}$ \n",
    "    - Developed in 2011\n",
    "    - Responsible for training deep learning NNs (Google Photos, Google Translate, [DeepDream](http://thenewstack.io/deep-learning-neural-networks-google-deep-dream/))\n",
    "- second-generation system for the implementation and deployment of largescale machine learning models\n",
    "- Has built-in support for deep learning algorithms\n",
    "    - Other deep learning frameworks (Theano, Torch, Cafe, Neon, H20, ...)\n",
    "- Or, any computation that can be expressed as computational flow graphs\n",
    "- gradient-based machine learning algorithms\n",
    "- Also, for other forms of ML algorithms - reinforcement learning, logistic regression.\n",
    "- Provides both Python and C/C++ API to link into a developer program.\n",
    "    - [The underlying software is built in C++](http://www.wired.com/2015/11/google-open-sources-its-artificial-intelligence-engine/)"
   ]
  },
  {
   "cell_type": "markdown",
   "metadata": {},
   "source": [
    "### Why TensorFlow\n",
    "- A single system on heterogenous platform  \n",
    "    - executed on a wide range of devices\n",
    "        - from single or multiple CPUs, to super-accelerated GPU environments\n",
    "        - from mobile device platforms such as Android and iOS to distributed systems.\n",
    "- flexibility and performance \n",
    "    - compared to DistBelief\n",
    "\n",
    "\n",
    "- \"A computation expressed using TensorFlow can be executed with little or no change on a wide variety of heterogeneous systems, ranging from mobile devices such as phones and tablets up to large-scale distributed systems of hundreds of machines and thousands of computational devices such as GPU cards.\" [See whitepaper](http://download.tensorflow.org/paper/whitepaper2015.pdf)"
   ]
  },
  {
   "cell_type": "markdown",
   "metadata": {},
   "source": [
    "### Key: TensorFlow uses data flow graphs \n",
    "\n",
    "- computations are represented as stateful data flow graphs\n",
    "    - Data flow graphs describe mathematical computation with a directed graph of nodes & edges\n",
    "        - $\\bf{Nodes}$ - represent mathematical operation $\\bf{(ops)}$.\n",
    "        - $\\bf{Edges}$ - serves as $\\bf{tensors}$ (multidimensional arrays) \n",
    "            - describe input/output relationships b/n nodes.\n",
    "    - Data flow graphs delineates the computation that happens during\n",
    "        - ${\\bf Session}$\n",
    "        <img src=\"TensorFlowGraphExample.png\">"
   ]
  },
  {
   "cell_type": "markdown",
   "metadata": {},
   "source": [
    "### Construct a computational graphs\n",
    "    - Each node has zero or more inputs and zero or more out puts\n",
    "        - represents the instantiation of operations\n",
    "        -Examples of operations\n",
    "            - Elementwise mathematical operation\n",
    "                - Add, Sub, Mul, Exp, Log, Greater, Equal\n",
    "            - Array operation\n",
    "                - Constant, Rank, Shape, Split, Shuffle\n",
    "            - Matrix operation\n",
    "                - MatMul, MatrixInverse,MatrixDeterminant\n",
    "            - Stateful Operation\n",
    "                - Variable, Assign, AssignAdd\n",
    "            - Neural-netbuilding blocks \n",
    "                - SoftMax, Sigmoid, Convolution2D\n",
    "    -  Values that flow along normal edges in the graph are tensors\n",
    "\n",
    "### Execute a TensorFlow graph\n",
    "    - Client's program interact with TensorFlow system by creating a Session\n",
    "        - Session.Run()\n",
    "            - Takes an output name that need to be computed\n",
    "            - Optional set of tensors to be fed into the graph\n",
    "                - e.g., using feed_dict\n",
    "\n",
    "### Variables\n",
    "    - special kind of operation that returns a handle to a persistent mutable tensor that survives across executions of a graph\n",
    "    \n",
    "[mode detail from the whitepaper](http://download.tensorflow.org/paper/whitepaper2015.pdf)"
   ]
  },
  {
   "cell_type": "markdown",
   "metadata": {},
   "source": [
    "<img src=\"TensorFlowGraph.png\">\n",
    "[Source](http://download.tensorflow.org/paper/whitepaper2015.pdf)"
   ]
  },
  {
   "cell_type": "markdown",
   "metadata": {},
   "source": [
    "### Theano vs TensorFlow"
   ]
  },
  {
   "cell_type": "markdown",
   "metadata": {},
   "source": [
    "Does this look Similar? [See Theano documentation](http://deeplearning.net/software/theano/tutorial/symbolic_graphs.html#theano-graphs)\n",
    "- The first step in writing Theano code is to write down all mathematical relations using symbolic ${\\bf placeholders (variables)}$\n",
    "\n",
    "- When writing down these expressions you use operations like $+, -, **, sum(), tanh()$. All these are represented internally as ${\\bf ops}$.\n",
    "\n",
    "- Theano builds internally a graph structure composed of interconnected $\\bf {variable}$ ${\\bf nodes}$, ${\\bf op}$ ${\\bf nodes}$ and ${\\bf apply}$ ${\\bf nodes.}$ "
   ]
  },
  {
   "cell_type": "code",
   "execution_count": 10,
   "metadata": {
    "collapsed": false
   },
   "outputs": [],
   "source": [
    "import theano.tensor as T\n",
    "x = T.dmatrix('x')\n",
    "y = T.dmatrix('y')\n",
    "z = x + y"
   ]
  },
  {
   "cell_type": "markdown",
   "metadata": {},
   "source": [
    "<img src=\"TheanoGraphExample.png\">"
   ]
  },
  {
   "cell_type": "code",
   "execution_count": 1,
   "metadata": {
    "collapsed": false
   },
   "outputs": [
    {
     "name": "stdout",
     "output_type": "stream",
     "text": [
      "42.0\n"
     ]
    }
   ],
   "source": [
    "from theano import tensor as T, function\n",
    "x = T.dscalar('x')       # declare symbolic variable\n",
    "y = T.dscalar('y')       # declare symbolic variable\n",
    "z = x + y                # build symbolic expression\n",
    "\n",
    "f = function([x, y], z)  # compile function\n",
    "print f(10,32)           # prints "
   ]
  },
  {
   "cell_type": "markdown",
   "metadata": {},
   "source": [
    "### The jury is still out\n",
    "- [Evaluation of Deep Learning Toolkits](https://github.com/zer0n/deepframeworks)\n",
    "- \"...The fact that it is open-sourced by Google means that TensorFlow will be well maintained and keeping updated. Just take a look at the author list of TensorFlow: Jeff Dean (father of MapReduce), Ian Goodfellow (main contributor of Theano/PyLearn2), Yangqing Jia (main contributor of Caffe) and other great Google researchers and engineers.\"\n",
    "[Community reactions](https://www.quora.com/What-is-unique-about-Tensorflow-from-the-other-existing-Deep-Learning-Libraries)\n",
    "<img src=\"CommunityReactions.png\">"
   ]
  },
  {
   "cell_type": "markdown",
   "metadata": {},
   "source": [
    "### Theano\n",
    "- Represents data as tensors .... theano.tensor\n",
    "- uses symbolic variables to represent mathmatical relation\n",
    "- builds internally a graph stucture\n",
    "- graph structure with nodes for Ops (+, -, **, tanh(), ..), and apply nodes\n",
    "- An apply node represents the application of an op to some variables"
   ]
  },
  {
   "cell_type": "markdown",
   "metadata": {},
   "source": [
    "### TensorFlow\n",
    "- Represents computations as graphs\n",
    "    - A TensorFlow graph is a description of computations\n",
    "    - Nodes in the graph are called ops (short for operations)\n",
    "    - An op takes Tensors, performs some computation, and produces Tensors\n",
    "- Executes graphs in the context of Sessions\n",
    "    - To compute anything, a graph must be launched in a Session\n",
    "- Represents data as tensors.\n",
    "- Maintains state with Variables.\n",
    "- Uses feeds and fetches to get data into and out of arbitrary operations"
   ]
  },
  {
   "cell_type": "markdown",
   "metadata": {},
   "source": [
    "###Installing TensorFlow \n",
    "- Caveat: Currently works only with Python 2\n",
    "    - Does not work with Python 3 \n",
    "- install using pip\n",
    "    - e.g., on Mac I used pip\n",
    "        - pip install https://storage.googleapis.com/tensorflow/mac/tensorflow-0.5.0-py2-none-any.whl\n",
    "- another way suggested in the community\n",
    "    - conda install -c https://conda.anaconda.org/jjhelmus tensorflow"
   ]
  },
  {
   "cell_type": "code",
   "execution_count": 2,
   "metadata": {
    "collapsed": false
   },
   "outputs": [
    {
     "name": "stdout",
     "output_type": "stream",
     "text": [
      "Hello, TensorFlow!\n"
     ]
    }
   ],
   "source": [
    "import tensorflow as tf\n",
    "hello = tf.constant('Hello, TensorFlow!')\n",
    "\n",
    "sess = tf.Session()\n",
    "print sess.run(hello)"
   ]
  },
  {
   "cell_type": "markdown",
   "metadata": {},
   "source": [
    "### Adding two scalars the ThensorFlow's way"
   ]
  },
  {
   "cell_type": "code",
   "execution_count": 3,
   "metadata": {
    "collapsed": false
   },
   "outputs": [
    {
     "name": "stdout",
     "output_type": "stream",
     "text": [
      "42\n"
     ]
    }
   ],
   "source": [
    "a = tf.constant(10)\n",
    "b = tf.constant(32)\n",
    "c = tf.add(a, b)\n",
    "\n",
    "sess = tf.Session()\n",
    "print sess.run(c)\n",
    "sess.close() #close the session to release resources"
   ]
  },
  {
   "cell_type": "markdown",
   "metadata": {},
   "source": [
    "### Matrix multiplication the TensorFlow's way"
   ]
  },
  {
   "cell_type": "code",
   "execution_count": 4,
   "metadata": {
    "collapsed": false
   },
   "outputs": [
    {
     "name": "stdout",
     "output_type": "stream",
     "text": [
      "Tensor(\"Const_4:0\", shape=TensorShape([Dimension(2), Dimension(1)]), dtype=float32)\n"
     ]
    }
   ],
   "source": [
    "#Building a TensorFlow graph of two Constant Ops and one Matmul op ... 3 nodes\n",
    "matrix1 = tf.constant([[3., 3.]])       #Create 1x2 matrix using Constant op.\n",
    "matrix2 = tf.constant([[2.],[2.]])      # 2x1 matrix.\n",
    "product = tf.matmul(matrix1, matrix2)   # Create a Matmul op\n",
    "print matrix2"
   ]
  },
  {
   "cell_type": "code",
   "execution_count": 5,
   "metadata": {
    "collapsed": false
   },
   "outputs": [
    {
     "name": "stdout",
     "output_type": "stream",
     "text": [
      "[[ 3.  3.]]\n",
      "\n",
      "[[ 2.]\n",
      " [ 2.]]\n",
      "\n",
      "[[ 12.]]\n"
     ]
    }
   ],
   "source": [
    "# Launch the graph in Session\n",
    "sess = tf.Session()      # Launch the default graph\n",
    "print sess.run(matrix1)  # use the session run() method\n",
    "print \"\"\n",
    "print sess.run(matrix2)\n",
    "print \"\"\n",
    "print sess.run(product)\n",
    "sess.close() #close the session to release resources"
   ]
  },
  {
   "cell_type": "markdown",
   "metadata": {},
   "source": [
    "#### Entering session using 'with' block\n",
    "    - The session closes automatically at the end of with block\n",
    "    - Recall the use of 'with' in opening files"
   ]
  },
  {
   "cell_type": "code",
   "execution_count": 6,
   "metadata": {
    "collapsed": false
   },
   "outputs": [],
   "source": [
    "# with block - \n",
    "with open(\"input_data.py\") as f:\n",
    "    data = f.read()\n",
    "    #print data\n",
    "    #do something with data"
   ]
  },
  {
   "cell_type": "code",
   "execution_count": 7,
   "metadata": {
    "collapsed": false
   },
   "outputs": [
    {
     "name": "stdout",
     "output_type": "stream",
     "text": [
      "[[ 12.]]\n"
     ]
    }
   ],
   "source": [
    "matrix1 = tf.constant([[3., 3.]])       \n",
    "matrix2 = tf.constant([[2.],[2.]])      \n",
    "product = tf.matmul(matrix1, matrix2) \n",
    "\n",
    "with tf.Session() as sess:\n",
    "    print sess.run(product)"
   ]
  },
  {
   "cell_type": "markdown",
   "metadata": {},
   "source": [
    "#### Some more variations in the use of Session()\n",
    "    - for use with interactive shells and iPhython notebook\n",
    "    - can use _.eval() and op.run() "
   ]
  },
  {
   "cell_type": "code",
   "execution_count": 8,
   "metadata": {
    "collapsed": false
   },
   "outputs": [
    {
     "name": "stdout",
     "output_type": "stream",
     "text": [
      "4.0 5.0 20.0\n"
     ]
    }
   ],
   "source": [
    "sess = tf.InteractiveSession()\n",
    "\n",
    "a = tf.constant(4.0) \n",
    "b = tf.Variable(5.0) #Create a variable that can  be initialized by 5.0\n",
    "c = a * b\n",
    "\n",
    "b.initializer.run() # initialize b using run()\n",
    "print a.eval(), b.eval(), c.eval()\n",
    " \n",
    "sess.close()"
   ]
  },
  {
   "cell_type": "code",
   "execution_count": 9,
   "metadata": {
    "collapsed": false
   },
   "outputs": [
    {
     "name": "stdout",
     "output_type": "stream",
     "text": [
      "4.0 5.0 20.0\n"
     ]
    }
   ],
   "source": [
    "a = tf.constant(4.0) \n",
    "b = tf.Variable(5.0) #Create a variable that can  be initialized by 5.0\n",
    "\n",
    "c = a * b\n",
    "\n",
    "with tf.Session():\n",
    "    b.initializer.run() # initialize b using run()\n",
    "    print a.eval(), b.eval(), c.eval()"
   ]
  },
  {
   "cell_type": "code",
   "execution_count": 10,
   "metadata": {
    "collapsed": false
   },
   "outputs": [
    {
     "name": "stdout",
     "output_type": "stream",
     "text": [
      "4.0 5.0 9.0 36.0\n"
     ]
    }
   ],
   "source": [
    "a = tf.constant(4.0) \n",
    "b = tf.Variable(5.0) #Create a variable that can  be initialized by 5.0\n",
    "update = tf.add(a,b)\n",
    "c = tf.mul(a,update)\n",
    "\n",
    "with tf.Session(): \n",
    "    b.initializer.run() # initialize b using run()\n",
    "    print a.eval(), b.eval(), update.eval(), c.eval()"
   ]
  },
  {
   "cell_type": "code",
   "execution_count": 11,
   "metadata": {
    "collapsed": false
   },
   "outputs": [
    {
     "name": "stdout",
     "output_type": "stream",
     "text": [
      "[4.0, 5.0, 9.0, 36.0]\n"
     ]
    }
   ],
   "source": [
    "a = tf.constant(4.0) \n",
    "b = tf.Variable(5.0) #Create a variable that can  be initialized by 5.0\n",
    "update = tf.add(a,b)\n",
    "c = tf.mul(a,update)\n",
    "\n",
    "with tf.Session() as sess: \n",
    "    b.initializer.run() # initialize b using run()\n",
    "    print sess.run([a, b, update, c])"
   ]
  },
  {
   "cell_type": "markdown",
   "metadata": {},
   "source": [
    "### Matrix multiplication the Theano's way"
   ]
  },
  {
   "cell_type": "code",
   "execution_count": 12,
   "metadata": {
    "collapsed": false
   },
   "outputs": [
    {
     "name": "stdout",
     "output_type": "stream",
     "text": [
      "x y dot.0\n",
      "[[ 12.]]\n"
     ]
    }
   ],
   "source": [
    "x, y = T.dmatrices('x','y')\n",
    "z = T.dot(x,y)\n",
    "print x, y, z\n",
    "\n",
    "f = function([x,y], z)\n",
    "th_prod = f([[3., 3.]], [[2.],[2.]])\n",
    "print th_prod"
   ]
  },
  {
   "cell_type": "markdown",
   "metadata": {},
   "source": [
    "### MNIST data set - hand written digital image"
   ]
  },
  {
   "cell_type": "code",
   "execution_count": 13,
   "metadata": {
    "collapsed": false
   },
   "outputs": [
    {
     "name": "stdout",
     "output_type": "stream",
     "text": [
      "Successfully downloaded train-images-idx3-ubyte.gz 9912422 bytes.\n",
      "Extracting MNIST_data/train-images-idx3-ubyte.gz\n",
      "Successfully downloaded train-labels-idx1-ubyte.gz 28881 bytes.\n",
      "Extracting MNIST_data/train-labels-idx1-ubyte.gz\n",
      "Successfully downloaded t10k-images-idx3-ubyte.gz 1648877 bytes.\n",
      "Extracting MNIST_data/t10k-images-idx3-ubyte.gz\n",
      "Successfully downloaded t10k-labels-idx1-ubyte.gz 4542 bytes.\n",
      "Extracting MNIST_data/t10k-labels-idx1-ubyte.gz\n"
     ]
    }
   ],
   "source": [
    "import input_data\n",
    "mnist = input_data.read_data_sets(\"MNIST_data/\", one_hot=True)"
   ]
  },
  {
   "cell_type": "markdown",
   "metadata": {},
   "source": [
    "### Logistic  regression classifier\n",
    "- Logistic neurons compute their output values from their input.\n",
    "    - $z = Wx + b$\n",
    "        - W: weight matrix (Weights of the connection)\n",
    "        - x: input vector \n",
    "        - b: bias vector\n",
    " \n",
    "- The neuron computes the weighted sum of its inputs, the logit, z. \n",
    "- Feeds the logit into the input function to compute y, its final output\n",
    "    - $y = \\frac{1}{1 + e^{-z}}$\n",
    "        - y: output vector\n",
    "- Logistic regression neuron calculates the probability that an input belongs to one of the target classes.\n",
    "    - x: input vector - 1D image of a digit (28 x 28 flattened to 1 x 784)\n",
    "    - target class - i = 0, 1, 2, ..., 9\n",
    "    - $P(y = i | x) = softmax_i(z) = \\frac{z_i}{\\sum_j e^z_j}$\n",
    "        - $z_j = W_jx + b_j$\n",
    "    - 10 possible outcomes\n",
    "    - select the one with the highest probability (T.argmax())\n",
    "    \n",
    "- [Adopted from](http://deeplearning.net/tutorial/code/logistic_sgd.py)"
   ]
  },
  {
   "cell_type": "code",
   "execution_count": 14,
   "metadata": {
    "collapsed": true
   },
   "outputs": [],
   "source": [
    "x = tf.placeholder(tf.float32, [None, 784])  #input\n",
    "y_ = tf.placeholder(tf.float32, [None, 10])  #target output\n",
    "\n",
    "W = tf.Variable(tf.zeros([784, 10]))\n",
    "b = tf.Variable(tf.zeros([10]))\n",
    "z = tf.matmul(x, W) + b\n",
    "y = tf.nn.softmax(z)\n",
    "\n",
    "\n",
    "cross_entropy = -tf.reduce_sum(y_*tf.log(y))\n",
    "train_step = tf.train.GradientDescentOptimizer(0.01).minimize(cross_entropy)\n",
    "init = tf.initialize_all_variables()"
   ]
  },
  {
   "cell_type": "code",
   "execution_count": 15,
   "metadata": {
    "collapsed": false
   },
   "outputs": [
    {
     "name": "stdout",
     "output_type": "stream",
     "text": [
      "0.9145\n"
     ]
    }
   ],
   "source": [
    "sess = tf.Session()\n",
    "sess.run(init)\n",
    "\n",
    "for i in range(1000):\n",
    "    batch_xs, batch_ys = mnist.train.next_batch(100)\n",
    "    sess.run(train_step, feed_dict={x: batch_xs, y_: batch_ys})\n",
    "\n",
    "correct_prediction = tf.equal(tf.argmax(y,1), tf.argmax(y_,1))\n",
    "accuracy = tf.reduce_mean(tf.cast(correct_prediction, \"float\"))\n",
    "print sess.run(accuracy, feed_dict={x: mnist.test.images, y_: mnist.test.labels})"
   ]
  },
  {
   "cell_type": "code",
   "execution_count": 16,
   "metadata": {
    "collapsed": true
   },
   "outputs": [],
   "source": [
    "import matplotlib.pyplot as plt\n",
    "%matplotlib inline\n",
    "\n",
    "def view_digit_images(number_of_images, dataset):\n",
    "    m = (number_of_images - 1)//5 + 1 \n",
    "    f, ax = plt.subplots(m, 5)\n",
    "    plt.gray()\n",
    "    i = 0\n",
    "    j = 0\n",
    "    for digit in dataset[:number_of_images]: \n",
    "        if m > 1:\n",
    "            ax[i][j].imshow(digit.reshape(28,28))\n",
    "        else:\n",
    "            ax[j].imshow(digit.reshape(28,28)) \n",
    "        j = j+1\n",
    "        if(j==5):\n",
    "            j = 0\n",
    "            i = i+1\n",
    "    extra = m*5 -(i*5+j) \n",
    "    if extra > 0:\n",
    "        for axs in range(extra):\n",
    "            f.delaxes(ax[-1,-axs-1]) \n",
    "    plt.show()"
   ]
  },
  {
   "cell_type": "code",
   "execution_count": 17,
   "metadata": {
    "collapsed": false
   },
   "outputs": [
    {
     "data": {
      "image/png": "[encoded data removed]",
      "text/plain": [
       "<matplotlib.figure.Figure at 0x10b5a8f50>"
      ]
     },
     "metadata": {},
     "output_type": "display_data"
    }
   ],
   "source": [
    "view_digit_images(20, mnist.test.images)"
   ]
  },
  {
   "cell_type": "code",
   "execution_count": 18,
   "metadata": {
    "collapsed": false
   },
   "outputs": [
    {
     "name": "stdout",
     "output_type": "stream",
     "text": [
      "[7 2 1 0 4 1 4 9 6 9 0 6 9 0 1 5 9 7 3 4]\n"
     ]
    }
   ],
   "source": [
    "prediction = tf.argmax(y,1)\n",
    "print sess.run(prediction, feed_dict={x: mnist.test.images[0:20]}) "
   ]
  },
  {
   "cell_type": "code",
   "execution_count": null,
   "metadata": {
    "collapsed": false
   },
   "outputs": [],
   "source": []
  }
 ],
 "metadata": {
  "kernelspec": {
   "display_name": "Python 2",
   "language": "python",
   "name": "python2"
  },
  "language_info": {
   "codemirror_mode": {
    "name": "ipython",
    "version": 2
   },
   "file_extension": ".py",
   "mimetype": "text/x-python",
   "name": "python",
   "nbconvert_exporter": "python",
   "pygments_lexer": "ipython2",
   "version": "2.7.10"
  }
 },
 "nbformat": 4,
 "nbformat_minor": 0
}
